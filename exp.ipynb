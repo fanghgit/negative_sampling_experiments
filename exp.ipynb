{
 "cells": [
  {
   "cell_type": "code",
   "execution_count": 1,
   "metadata": {
    "collapsed": false
   },
   "outputs": [
    {
     "data": {
      "text/plain": [
       "read (generic function with 1 method)"
      ]
     },
     "execution_count": 1,
     "metadata": {},
     "output_type": "execute_result"
    }
   ],
   "source": [
    "include(\"code/readData.jl\")"
   ]
  },
  {
   "cell_type": "code",
   "execution_count": 2,
   "metadata": {
    "collapsed": false
   },
   "outputs": [
    {
     "data": {
      "text/plain": [
       "(97200, 128)"
      ]
     },
     "execution_count": 2,
     "metadata": {},
     "output_type": "execute_result"
    }
   ],
   "source": [
    "ft, lbl = read(\"data/aloi/aloi_train\")\n",
    "size(ft)"
   ]
  },
  {
   "cell_type": "code",
   "execution_count": 6,
   "metadata": {
    "collapsed": false
   },
   "outputs": [
    {
     "data": {
      "text/plain": [
       "train_neg_sampling (generic function with 1 method)"
      ]
     },
     "execution_count": 6,
     "metadata": {},
     "output_type": "execute_result"
    }
   ],
   "source": [
    "include(\"code/algo.jl\")"
   ]
  },
  {
   "cell_type": "code",
   "execution_count": 4,
   "metadata": {
    "collapsed": false
   },
   "outputs": [
    {
     "data": {
      "text/plain": [
       "1000"
      ]
     },
     "execution_count": 4,
     "metadata": {},
     "output_type": "execute_result"
    }
   ],
   "source": [
    "N, D = size(ft)\n",
    "K = size(lbl, 1)"
   ]
  },
  {
   "cell_type": "code",
   "execution_count": 10,
   "metadata": {
    "collapsed": false
   },
   "outputs": [
    {
     "name": "stdout",
     "output_type": "stream",
     "text": [
      "toq() = 6.723030956\n",
      "1.0e+00 epoch complete \n",
      "prec@10 for gmips: 2.734000e-01, prec@10 for random: 9.800000e-03 \n",
      "loss: 1.049e+01, risk 9.577e-01 \n",
      "toq() = 6.574321257\n",
      "2.0e+00 epoch complete \n",
      "prec@10 for gmips: 1.832000e-01, prec@10 for random: 9.600000e-03 \n",
      "loss: 9.561e+00, risk 9.381e-01 \n",
      "toq() = 6.241912879\n",
      "3.0e+00 epoch complete \n",
      "prec@10 for gmips: 1.314000e-01, prec@10 for random: 8.500000e-03 \n",
      "loss: 8.868e+00, risk 9.160e-01 \n",
      "toq() = 6.330128476\n",
      "4.0e+00 epoch complete \n",
      "prec@10 for gmips: 1.055000e-01, prec@10 for random: 1.020000e-02 \n",
      "loss: 7.962e+00, risk 8.904e-01 \n",
      "toq() = 6.228727497\n",
      "5.0e+00 epoch complete \n",
      "prec@10 for gmips: 1.001000e-01, prec@10 for random: 9.300000e-03 \n",
      "loss: 7.203e+00, risk 8.392e-01 \n",
      "toq() = 6.252046746\n",
      "6.0e+00 epoch complete \n",
      "prec@10 for gmips: 7.850000e-02, prec@10 for random: 9.100000e-03 \n",
      "loss: 6.780e+00, risk 8.271e-01 \n",
      "toq() = 6.262439783\n",
      "7.0e+00 epoch complete \n",
      "prec@10 for gmips: 6.850000e-02, prec@10 for random: 1.060000e-02 \n",
      "loss: 6.271e+00, risk 7.954e-01 \n",
      "toq() = 6.257429129\n",
      "8.0e+00 epoch complete \n",
      "prec@10 for gmips: 6.060000e-02, prec@10 for random: 9.500000e-03 \n",
      "loss: 5.808e+00, risk 7.710e-01 \n",
      "toq() = 6.264650547\n",
      "9.0e+00 epoch complete \n",
      "prec@10 for gmips: 7.280000e-02, prec@10 for random: 1.000000e-02 \n",
      "loss: 5.544e+00, risk 7.522e-01 \n",
      "toq() = 6.221197558\n",
      "1.0e+01 epoch complete \n",
      "prec@10 for gmips: 6.580000e-02, prec@10 for random: 1.080000e-02 \n",
      "loss: 5.235e+00, risk 7.393e-01 \n",
      "toq() = 6.63523991\n",
      "1.1e+01 epoch complete \n",
      "prec@10 for gmips: 5.680000e-02, prec@10 for random: 9.900000e-03 \n",
      "loss: 4.979e+00, risk 7.063e-01 \n",
      "toq() = 6.44602042\n",
      "1.2e+01 epoch complete \n",
      "prec@10 for gmips: 4.660000e-02, prec@10 for random: 9.700000e-03 \n",
      "loss: 4.697e+00, risk 6.789e-01 \n",
      "toq() = 6.659035607\n",
      "1.3e+01 epoch complete \n",
      "prec@10 for gmips: 4.980000e-02, prec@10 for random: 1.150000e-02 \n",
      "loss: 4.481e+00, risk 6.401e-01 \n",
      "toq() = 6.238687684\n",
      "1.4e+01 epoch complete \n",
      "prec@10 for gmips: 3.820000e-02, prec@10 for random: 1.040000e-02 \n",
      "loss: 4.367e+00, risk 6.552e-01 \n",
      "toq() = 6.734179753\n",
      "1.5e+01 epoch complete \n",
      "prec@10 for gmips: 4.450000e-02, prec@10 for random: 1.170000e-02 \n",
      "loss: 4.186e+00, risk 6.299e-01 \n",
      "toq() = 7.75043416\n",
      "1.6e+01 epoch complete \n",
      "prec@10 for gmips: 3.860000e-02, prec@10 for random: 9.000000e-03 \n"
     ]
    },
    {
     "ename": "LoadError",
     "evalue": "\u001b[91mInterruptException:\u001b[39m",
     "output_type": "error",
     "traceback": [
      "\u001b[91mInterruptException:\u001b[39m",
      "",
      "Stacktrace:",
      " [1] \u001b[1mmacro expansion\u001b[22m\u001b[22m at \u001b[1m./multidimensional.jl:495\u001b[22m\u001b[22m [inlined]",
      " [2] \u001b[1m_getindex\u001b[22m\u001b[22m at \u001b[1m./multidimensional.jl:491\u001b[22m\u001b[22m [inlined]",
      " [3] \u001b[1mgetindex\u001b[22m\u001b[22m at \u001b[1m./abstractarray.jl:883\u001b[22m\u001b[22m [inlined]",
      " [4] \u001b[1msoftmax_greedy\u001b[22m\u001b[22m\u001b[1m(\u001b[22m\u001b[22m::SparseMatrixCSC{Float64,Int64}, ::SparseMatrixCSC{Float64,Int64}, ::Float64, ::Array{Float64,2}, ::Int64, ::Int64, ::Int64\u001b[1m)\u001b[22m\u001b[22m at \u001b[1m/Users/fangh/academic/negative_sampling_experiments/code/algo.jl:105\u001b[22m\u001b[22m",
      " [5] \u001b[1minclude_string\u001b[22m\u001b[22m\u001b[1m(\u001b[22m\u001b[22m::String, ::String\u001b[1m)\u001b[22m\u001b[22m at \u001b[1m./loading.jl:522\u001b[22m\u001b[22m"
     ]
    }
   ],
   "source": [
    "#W1 = softmax_greedy(ft, lbl, 0.1, copy(W), 10, 10, 1)\n",
    "W1 = softmax_greedy(ft, lbl, 1.0, zeros(D,K), 20, 10, 1)"
   ]
  },
  {
   "cell_type": "code",
   "execution_count": null,
   "metadata": {
    "collapsed": true
   },
   "outputs": [],
   "source": []
  },
  {
   "cell_type": "code",
   "execution_count": 12,
   "metadata": {
    "collapsed": false
   },
   "outputs": [
    {
     "name": "stdout",
     "output_type": "stream",
     "text": [
      "toq() = 5.86896212\n",
      "1.0e+00 epoch complete \n",
      "prec@10 for gmips: 3.856000e-01, prec@10 for random: 9.900000e-03 \n",
      "loss: 1.429e+01, risk 9.788e-01 \n",
      "toq() = 5.469990897\n",
      "2.0e+00 epoch complete \n",
      "prec@10 for gmips: 2.247000e-01, prec@10 for random: 1.160000e-02 \n",
      "loss: 1.460e+01, risk 9.526e-01 \n",
      "toq() = 5.180199805\n",
      "3.0e+00 epoch complete \n",
      "prec@10 for gmips: 1.550000e-01, prec@10 for random: 1.070000e-02 \n",
      "loss: 1.368e+01, risk 9.362e-01 \n",
      "toq() = 5.267573286\n",
      "4.0e+00 epoch complete \n",
      "prec@10 for gmips: 1.461000e-01, prec@10 for random: 1.110000e-02 \n",
      "loss: 1.371e+01, risk 9.330e-01 \n",
      "toq() = 5.232593568\n",
      "5.0e+00 epoch complete \n",
      "prec@10 for gmips: 9.930000e-02, prec@10 for random: 8.500000e-03 \n",
      "loss: 1.301e+01, risk 9.274e-01 \n",
      "toq() = 5.225759721\n",
      "6.0e+00 epoch complete \n",
      "prec@10 for gmips: 9.360000e-02, prec@10 for random: 9.900000e-03 \n",
      "loss: 1.181e+01, risk 9.158e-01 \n",
      "toq() = 5.424757307\n",
      "7.0e+00 epoch complete \n",
      "prec@10 for gmips: 9.080000e-02, prec@10 for random: 9.000000e-03 \n",
      "loss: 1.137e+01, risk 8.936e-01 \n",
      "toq() = 5.291660108\n",
      "8.0e+00 epoch complete \n",
      "prec@10 for gmips: 8.280000e-02, prec@10 for random: 8.600000e-03 \n",
      "loss: 1.126e+01, risk 9.028e-01 \n",
      "toq() = 5.457063817\n",
      "9.0e+00 epoch complete \n",
      "prec@10 for gmips: 7.780000e-02, prec@10 for random: 1.160000e-02 \n",
      "loss: 1.044e+01, risk 8.854e-01 \n",
      "toq() = 5.766004274\n",
      "1.0e+01 epoch complete \n",
      "prec@10 for gmips: 7.120000e-02, prec@10 for random: 1.110000e-02 \n",
      "loss: 9.494e+00, risk 8.416e-01 \n",
      "toq() = 5.432006827\n",
      "1.1e+01 epoch complete \n",
      "prec@10 for gmips: 5.970000e-02, prec@10 for random: 1.020000e-02 \n",
      "loss: 9.827e+00, risk 8.792e-01 \n",
      "toq() = 5.38588922\n",
      "1.2e+01 epoch complete \n",
      "prec@10 for gmips: 5.570000e-02, prec@10 for random: 9.800000e-03 \n",
      "loss: 9.301e+00, risk 8.562e-01 \n",
      "toq() = 5.332827641\n",
      "1.3e+01 epoch complete \n",
      "prec@10 for gmips: 5.820000e-02, prec@10 for random: 9.500000e-03 \n",
      "loss: 8.647e+00, risk 8.409e-01 \n",
      "toq() = 5.237177164\n",
      "1.4e+01 epoch complete \n",
      "prec@10 for gmips: 3.780000e-02, prec@10 for random: 1.040000e-02 \n",
      "loss: 7.885e+00, risk 8.182e-01 \n",
      "toq() = 5.388213871\n",
      "1.5e+01 epoch complete \n",
      "prec@10 for gmips: 4.970000e-02, prec@10 for random: 9.500000e-03 \n",
      "loss: 7.950e+00, risk 8.254e-01 \n"
     ]
    },
    {
     "data": {
      "text/plain": [
       "128×1000 Array{Float64,2}:\n",
       "  7.82019       8.54178       5.16667      …   9.84906       5.95309    \n",
       "  7.28083       3.88587      11.7683           0.104402      8.25872    \n",
       "  6.15464       0.443293      0.196935        -0.000546091   6.74311    \n",
       "  1.60969       0.110504     -0.000159786     -5.23911e-5    4.39361    \n",
       " -0.0623295     0.887554     -8.7706e-5        0.151954     -0.0350622  \n",
       "  3.51924       3.44184      -0.000525329  …   1.62576       3.14432    \n",
       "  6.86855       2.22151      -0.000655465     -0.00113615    1.71108    \n",
       "  0.608331      0.110785     -0.000306549     -9.53333e-5    0.0334191  \n",
       " -5.1001e-5    -7.42722e-5   -1.23663e-8      -5.79006e-9   -8.10781e-6 \n",
       " -0.000941417  -0.000339293  -1.64081e-9      -5.37569e-9   -0.0216472  \n",
       " -0.0379142     0.110893     -0.000151175  …  -2.46491e-6   -0.0222616  \n",
       " -0.0545485    -0.000247475  -0.000291037     -3.62854e-5   -0.206327   \n",
       "  0.0           0.0          -3.2814e-9        0.0           0.0        \n",
       "  ⋮                                        ⋱                            \n",
       " -0.000267501  -0.00108916   -1.9902e-7       -2.21184e-5   -7.36251e-6 \n",
       " -0.000272207  -0.000545832  -4.59436e-6      -8.81626e-5   -0.000140644\n",
       " -0.000124005  -5.55131e-9   -4.48973e-5      -8.28111e-6   -2.58882e-6 \n",
       " -3.13547e-5   -6.74821e-5   -4.49232e-5       0.110998     -3.68184e-5 \n",
       " -0.000118781  -0.000294088  -1.64084e-9   …  -4.88919e-7   -4.10496e-6 \n",
       " -0.00104797   -0.00145995   -1.40879e-5       0.222128     -0.000180747\n",
       " -0.068879      0.220902     -7.97832e-5       0.876165     -0.00156318 \n",
       " -0.0188913     0.220832     -0.000169933      0.390096      1.35082    \n",
       " -1.71959e-5   -1.09268e-8    0.0             -1.41557e-8    0.0        \n",
       " -0.000222546  -0.000879302  -1.29993e-5   …  -2.4487e-5    -4.00125e-6 \n",
       " -0.0375248     0.554197     -6.68523e-5       0.987199     -0.00145233 \n",
       "  2.6726        2.2201       -0.000687413      5.93139       1.78418    "
      ]
     },
     "execution_count": 12,
     "metadata": {},
     "output_type": "execute_result"
    }
   ],
   "source": [
    "W3 = softmax_greedy(ft, lbl, 1.0, zeros(D,K), 15, 10, 3)"
   ]
  },
  {
   "cell_type": "code",
   "execution_count": 11,
   "metadata": {
    "collapsed": false
   },
   "outputs": [
    {
     "name": "stdout",
     "output_type": "stream",
     "text": [
      "toq() = 7.130010635\n",
      "1.0e+00 epoch complete \n",
      "prec@10 for gmips: 2.151000e-01, prec@10 for random: 9.900000e-03 \n",
      "loss: 1.212e+01, risk 9.787e-01 \n",
      "toq() = 6.314313616\n",
      "2.0e+00 epoch complete \n",
      "prec@10 for gmips: 1.007000e-01, prec@10 for random: 9.800000e-03 \n",
      "loss: 1.218e+01, risk 9.568e-01 \n",
      "toq() = 6.546472281\n",
      "3.0e+00 epoch complete \n",
      "prec@10 for gmips: 6.480000e-02, prec@10 for random: 1.090000e-02 \n",
      "loss: 1.228e+01, risk 9.401e-01 \n",
      "toq() = 6.565865125\n",
      "4.0e+00 epoch complete \n",
      "prec@10 for gmips: 3.600000e-02, prec@10 for random: 8.500000e-03 \n",
      "loss: 1.282e+01, risk 9.464e-01 \n",
      "toq() = 6.51828702\n",
      "5.0e+00 epoch complete \n",
      "prec@10 for gmips: 2.880000e-02, prec@10 for random: 9.000000e-03 \n",
      "loss: 1.245e+01, risk 9.369e-01 \n",
      "toq() = 6.486470209\n",
      "6.0e+00 epoch complete \n",
      "prec@10 for gmips: 2.610000e-02, prec@10 for random: 1.250000e-02 \n",
      "loss: 1.248e+01, risk 9.385e-01 \n",
      "toq() = 6.499185802\n",
      "7.0e+00 epoch complete \n",
      "prec@10 for gmips: 2.500000e-02, prec@10 for random: 9.700000e-03 \n",
      "loss: 1.165e+01, risk 9.151e-01 \n",
      "toq() = 6.577796965\n",
      "8.0e+00 epoch complete \n",
      "prec@10 for gmips: 2.230000e-02, prec@10 for random: 1.010000e-02 \n",
      "loss: 1.118e+01, risk 9.073e-01 \n",
      "toq() = 7.284667676\n",
      "9.0e+00 epoch complete \n",
      "prec@10 for gmips: 1.850000e-02, prec@10 for random: 9.400000e-03 \n",
      "loss: 1.136e+01, risk 9.123e-01 \n",
      "toq() = 6.626562104\n",
      "1.0e+01 epoch complete \n",
      "prec@10 for gmips: 1.810000e-02, prec@10 for random: 1.070000e-02 \n",
      "loss: 1.072e+01, risk 8.955e-01 \n",
      "toq() = 6.562730831\n",
      "1.1e+01 epoch complete \n",
      "prec@10 for gmips: 1.850000e-02, prec@10 for random: 1.010000e-02 \n",
      "loss: 1.029e+01, risk 8.857e-01 \n",
      "toq() = 6.798008532\n",
      "1.2e+01 epoch complete \n",
      "prec@10 for gmips: 1.880000e-02, prec@10 for random: 8.900000e-03 \n",
      "loss: 9.379e+00, risk 8.570e-01 \n",
      "toq() = 6.63581715\n",
      "1.3e+01 epoch complete \n",
      "prec@10 for gmips: 1.790000e-02, prec@10 for random: 8.300000e-03 \n",
      "loss: 9.478e+00, risk 8.606e-01 \n",
      "toq() = 7.065561151\n",
      "1.4e+01 epoch complete \n",
      "prec@10 for gmips: 1.410000e-02, prec@10 for random: 1.060000e-02 \n",
      "loss: 9.133e+00, risk 8.552e-01 \n",
      "toq() = 6.624534141\n",
      "1.5e+01 epoch complete \n",
      "prec@10 for gmips: 1.300000e-02, prec@10 for random: 8.400000e-03 \n",
      "loss: 8.811e+00, risk 8.613e-01 \n"
     ]
    },
    {
     "data": {
      "text/plain": [
       "128×1000 Array{Float64,2}:\n",
       "  8.17572      12.1318       …  9.07434   10.2852       6.10002    \n",
       "  7.93969       5.11325         0.108727  -0.618251     8.722      \n",
       "  6.74898       0.774607        0.0       -0.152121     7.36746    \n",
       "  1.92541       0.162574        0.0       -0.0962869    5.76343    \n",
       " -0.0237152     1.52007         0.0       -0.205179    -4.06375e-5 \n",
       "  3.39909       4.3679       …  0.0        0.964543     2.43655    \n",
       "  5.5019        3.04904         0.0       -0.112009     1.84914    \n",
       "  0.726261      0.0403334       0.0       -0.019536     0.450593   \n",
       " -0.000108497  -0.000108497     0.0       -0.00238433   0.0        \n",
       " -0.000212679  -0.000212679     0.0       -0.012141    -0.00016255 \n",
       " -0.025405      0.433657     …  0.0       -0.124769    -0.0202844  \n",
       " -0.0264449     0.079854        0.0       -0.0337177   -0.0294618  \n",
       "  0.0           0.0             0.0        0.0          0.0        \n",
       "  ⋮                          ⋱                                     \n",
       "  0.0           0.0             0.216107  -0.0503567   -4.06375e-5 \n",
       "  0.0          -0.00213048      0.85523   -0.0284855    0.0        \n",
       " -0.00104449    0.0             0.0       -0.0233155    0.0        \n",
       "  0.0           0.0             0.0       -0.00191775   0.231152   \n",
       "  0.0          -0.00483573   …  0.104996  -0.0143801   -0.00016255 \n",
       " -0.0101514     0.0974358       2.48202    0.172465    -0.000299261\n",
       " -0.0148992     0.0900847       1.24984    0.644874    -0.00322324 \n",
       "  0.0963034     0.771087        0.367175   0.364582     1.30074    \n",
       " -0.000107029  -0.00494276      0.0        0.0          0.0        \n",
       " -0.00251015    0.0          …  0.85523   -0.055156    -8.1275e-5  \n",
       " -0.00873779    0.71126         1.91687    0.701996    -0.00308653 \n",
       "  3.24973       3.39274         1.23605    3.91903      1.67019    "
      ]
     },
     "execution_count": 11,
     "metadata": {},
     "output_type": "execute_result"
    }
   ],
   "source": [
    "W2 = softmax_greedy(ft, lbl, 1.0, zeros(D,K), 15, 10, 2)"
   ]
  },
  {
   "cell_type": "markdown",
   "metadata": {
    "collapsed": false
   },
   "source": [
    "Wsoftmax = softmax(ft, lbl, 1.0, zeros(D,K), 20, 10)"
   ]
  },
  {
   "cell_type": "code",
   "execution_count": null,
   "metadata": {
    "collapsed": false
   },
   "outputs": [],
   "source": [
    "a = [5, 1, 2, 3, 4]\n",
    "deleteat!(a, 3)\n",
    "a"
   ]
  },
  {
   "cell_type": "code",
   "execution_count": null,
   "metadata": {
    "collapsed": false
   },
   "outputs": [],
   "source": [
    "W = softmax_greedy(ft, lbl, 0.1, W, 10, 10)"
   ]
  },
  {
   "cell_type": "code",
   "execution_count": null,
   "metadata": {
    "collapsed": false
   },
   "outputs": [],
   "source": [
    "W = softmax_greedy(ft, lbl, 0.01, W, 10, 10)"
   ]
  },
  {
   "cell_type": "code",
   "execution_count": null,
   "metadata": {
    "collapsed": false
   },
   "outputs": [],
   "source": [
    "W = softmax(ft, lbl, 0.001, W, 20, 10)"
   ]
  },
  {
   "cell_type": "code",
   "execution_count": null,
   "metadata": {
    "collapsed": false
   },
   "outputs": [],
   "source": [
    "include(\"code/algo.jl\")"
   ]
  },
  {
   "cell_type": "code",
   "execution_count": null,
   "metadata": {
    "collapsed": false
   },
   "outputs": [],
   "source": [
    "W = train_pairwise(ft, lbl, 0.1, 30, zeros(D, K))"
   ]
  },
  {
   "cell_type": "code",
   "execution_count": null,
   "metadata": {
    "collapsed": false
   },
   "outputs": [],
   "source": [
    "X = ft_te'\n",
    "n_te = size(ft_te, 1)\n",
    "risk = 0\n",
    "XW = ft_te*W\n",
    "for i = 1:n_te\n",
    "    Wxi = XW[i,:]\n",
    "    ii = indmax(Wxi)\n",
    "    class = find(lbl_te[:,i])[1]\n",
    "    if ii != class\n",
    "        risk += 1 \n",
    "    end\n",
    "end\n",
    "@show(risk/n_te)"
   ]
  },
  {
   "cell_type": "code",
   "execution_count": null,
   "metadata": {
    "collapsed": false
   },
   "outputs": [],
   "source": [
    "W = train_pairwise(ft, lbl, 0.05, 20, W)"
   ]
  },
  {
   "cell_type": "code",
   "execution_count": null,
   "metadata": {
    "collapsed": false
   },
   "outputs": [],
   "source": [
    "W = train_pairwise(ft, lbl, 0.0005, 10, W)"
   ]
  },
  {
   "cell_type": "code",
   "execution_count": null,
   "metadata": {
    "collapsed": true
   },
   "outputs": [],
   "source": [
    "import StatsBase.sample"
   ]
  },
  {
   "cell_type": "code",
   "execution_count": null,
   "metadata": {
    "collapsed": false
   },
   "outputs": [],
   "source": [
    "perm = randperm(N)\n",
    "sample([1:2;], 2)"
   ]
  },
  {
   "cell_type": "code",
   "execution_count": null,
   "metadata": {
    "collapsed": false
   },
   "outputs": [],
   "source": [
    "include(\"code/algo.jl\")"
   ]
  },
  {
   "cell_type": "code",
   "execution_count": null,
   "metadata": {
    "collapsed": false
   },
   "outputs": [],
   "source": [
    "W = train_neg_sampling(ft, lbl, 1.0, 10, zeros(D,K), 10)"
   ]
  },
  {
   "cell_type": "code",
   "execution_count": null,
   "metadata": {
    "collapsed": false
   },
   "outputs": [],
   "source": [
    "W = train_neg_sampling(ft, lbl, 0.01, 10, W, 100)"
   ]
  },
  {
   "cell_type": "code",
   "execution_count": null,
   "metadata": {
    "collapsed": false
   },
   "outputs": [],
   "source": [
    "W = [1 2; 3 4; 5 6]"
   ]
  },
  {
   "cell_type": "code",
   "execution_count": null,
   "metadata": {
    "collapsed": false
   },
   "outputs": [],
   "source": [
    "a = [1;2;3;4]\n",
    "b = [1;4;7;9]\n",
    "intersect(a,b)"
   ]
  },
  {
   "cell_type": "code",
   "execution_count": null,
   "metadata": {
    "collapsed": false
   },
   "outputs": [],
   "source": [
    "A = copy(W)"
   ]
  },
  {
   "cell_type": "code",
   "execution_count": null,
   "metadata": {
    "collapsed": false
   },
   "outputs": [],
   "source": [
    "Amin = zeros(1000)\n",
    "for i = 1:1000\n",
    "    Amin[i] = minimum(A[:,i])\n",
    "end"
   ]
  },
  {
   "cell_type": "code",
   "execution_count": null,
   "metadata": {
    "collapsed": false
   },
   "outputs": [],
   "source": [
    "x = ft[100,:]"
   ]
  },
  {
   "cell_type": "code",
   "execution_count": null,
   "metadata": {
    "collapsed": false
   },
   "outputs": [],
   "source": [
    "Ax = A'*x\n",
    "idx = sortperm(Ax, rev=true)\n",
    "#@show(idx)\n"
   ]
  },
  {
   "cell_type": "code",
   "execution_count": null,
   "metadata": {
    "collapsed": false
   },
   "outputs": [],
   "source": [
    "println(Ax[182])\n",
    "println(Ax[386])"
   ]
  },
  {
   "cell_type": "code",
   "execution_count": null,
   "metadata": {
    "collapsed": false
   },
   "outputs": [],
   "source": [
    "B = zeros(1000)\n",
    "for i = 1:1000\n",
    "    B[i] = maximum( A[:,i].*x )\n",
    "end\n",
    "B"
   ]
  },
  {
   "cell_type": "code",
   "execution_count": null,
   "metadata": {
    "collapsed": false
   },
   "outputs": [],
   "source": [
    "idx_gmips = sortperm(B, rev=true)"
   ]
  },
  {
   "cell_type": "code",
   "execution_count": null,
   "metadata": {
    "collapsed": false
   },
   "outputs": [],
   "source": [
    "println(B[182])\n",
    "println(B[498])"
   ]
  },
  {
   "cell_type": "code",
   "execution_count": null,
   "metadata": {
    "collapsed": true
   },
   "outputs": [],
   "source": []
  }
 ],
 "metadata": {
  "kernelspec": {
   "display_name": "Julia 0.6.2",
   "language": "julia",
   "name": "julia-0.6"
  },
  "language_info": {
   "file_extension": ".jl",
   "mimetype": "application/julia",
   "name": "julia",
   "version": "0.6.2"
  }
 },
 "nbformat": 4,
 "nbformat_minor": 1
}
