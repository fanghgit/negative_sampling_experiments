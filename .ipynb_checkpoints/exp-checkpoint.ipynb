{
 "cells": [
  {
   "cell_type": "code",
   "execution_count": 15,
   "metadata": {
    "collapsed": false
   },
   "outputs": [
    {
     "data": {
      "text/plain": [
       "read (generic function with 1 method)"
      ]
     },
     "execution_count": 15,
     "metadata": {},
     "output_type": "execute_result"
    }
   ],
   "source": [
    "include(\"code/readData.jl\")"
   ]
  },
  {
   "cell_type": "code",
   "execution_count": 40,
   "metadata": {
    "collapsed": false
   },
   "outputs": [
    {
     "data": {
      "text/plain": [
       "(97200, 128)"
      ]
     },
     "execution_count": 40,
     "metadata": {},
     "output_type": "execute_result"
    }
   ],
   "source": [
    "ft, lbl = read(\"data/aloi/aloi_train\")\n",
    "size(ft)"
   ]
  },
  {
   "cell_type": "code",
   "execution_count": 77,
   "metadata": {
    "collapsed": false
   },
   "outputs": [
    {
     "data": {
      "text/plain": [
       "softmax (generic function with 3 methods)"
      ]
     },
     "execution_count": 77,
     "metadata": {},
     "output_type": "execute_result"
    }
   ],
   "source": [
    "include(\"code/algo.jl\")"
   ]
  },
  {
   "cell_type": "code",
   "execution_count": 78,
   "metadata": {
    "collapsed": false
   },
   "outputs": [
    {
     "data": {
      "text/plain": [
       "1000"
      ]
     },
     "execution_count": 78,
     "metadata": {},
     "output_type": "execute_result"
    }
   ],
   "source": [
    "N, D = size(ft)\n",
    "K = size(lbl, 1)"
   ]
  },
  {
   "cell_type": "code",
   "execution_count": 80,
   "metadata": {
    "collapsed": false
   },
   "outputs": [
    {
     "name": "stdout",
     "output_type": "stream",
     "text": [
      "toq() = 6.793221875\n",
      "1.0e+00 epoch complete \n",
      "loss: 9.498e+00, risk 9.585e-01 \n",
      "toq() = 6.600815315\n",
      "2.0e+00 epoch complete \n",
      "loss: 8.712e+00, risk 9.401e-01 \n",
      "toq() = 6.704919466\n",
      "3.0e+00 epoch complete \n",
      "loss: 7.794e+00, risk 8.970e-01 \n",
      "toq() = 6.800555739\n",
      "4.0e+00 epoch complete \n",
      "loss: 7.198e+00, risk 8.767e-01 \n",
      "toq() = 6.223690604\n",
      "5.0e+00 epoch complete \n"
     ]
    },
    {
     "ename": "LoadError",
     "evalue": "\u001b[91mInterruptException:\u001b[39m",
     "output_type": "error",
     "traceback": [
      "\u001b[91mInterruptException:\u001b[39m",
      "",
      "Stacktrace:",
      " [1] \u001b[1mmacro expansion\u001b[22m\u001b[22m at \u001b[1m./multidimensional.jl:495\u001b[22m\u001b[22m [inlined]",
      " [2] \u001b[1m_getindex\u001b[22m\u001b[22m at \u001b[1m./multidimensional.jl:491\u001b[22m\u001b[22m [inlined]",
      " [3] \u001b[1mgetindex\u001b[22m\u001b[22m at \u001b[1m./abstractarray.jl:883\u001b[22m\u001b[22m [inlined]",
      " [4] \u001b[1msoftmax\u001b[22m\u001b[22m\u001b[1m(\u001b[22m\u001b[22m::SparseMatrixCSC{Float64,Int64}, ::SparseMatrixCSC{Float64,Int64}, ::Float64, ::Array{Float64,2}, ::Int64\u001b[1m)\u001b[22m\u001b[22m at \u001b[1m/Users/fangh/academic/negative_sampling_experiments/code/algo.jl:43\u001b[22m\u001b[22m",
      " [5] \u001b[1minclude_string\u001b[22m\u001b[22m\u001b[1m(\u001b[22m\u001b[22m::String, ::String\u001b[1m)\u001b[22m\u001b[22m at \u001b[1m./loading.jl:522\u001b[22m\u001b[22m"
     ]
    }
   ],
   "source": [
    "W = softmax(ft, lbl, 1.0, zeros(D, K), 10)"
   ]
  },
  {
   "cell_type": "code",
   "execution_count": 86,
   "metadata": {
    "collapsed": false
   },
   "outputs": [
    {
     "data": {
      "text/plain": [
       "5"
      ]
     },
     "execution_count": 86,
     "metadata": {},
     "output_type": "execute_result"
    }
   ],
   "source": [
    "rand(1:5)"
   ]
  },
  {
   "cell_type": "code",
   "execution_count": 61,
   "metadata": {
    "collapsed": false
   },
   "outputs": [
    {
     "name": "stdout",
     "output_type": "stream",
     "text": [
      "1.0e+00 epoch complete \n",
      "loss: 1.643e+00, risk 2.128e-01 \n",
      "2.0e+00 epoch complete \n",
      "loss: 1.593e+00, risk 2.004e-01 \n",
      "3.0e+00 epoch complete \n",
      "loss: 1.573e+00, risk 1.939e-01 \n",
      "4.0e+00 epoch complete \n",
      "loss: 1.560e+00, risk 1.892e-01 \n",
      "5.0e+00 epoch complete \n",
      "loss: 1.539e+00, risk 1.850e-01 \n",
      "6.0e+00 epoch complete \n",
      "loss: 1.534e+00, risk 1.869e-01 \n",
      "7.0e+00 epoch complete \n",
      "loss: 1.529e+00, risk 1.858e-01 \n",
      "8.0e+00 epoch complete \n",
      "loss: 1.524e+00, risk 1.828e-01 \n",
      "9.0e+00 epoch complete \n",
      "loss: 1.521e+00, risk 1.809e-01 \n",
      "1.0e+01 epoch complete \n",
      "loss: 1.512e+00, risk 1.812e-01 \n",
      "1.1e+01 epoch complete \n",
      "loss: 1.513e+00, risk 1.828e-01 \n",
      "1.2e+01 epoch complete \n",
      "loss: 1.507e+00, risk 1.811e-01 \n",
      "1.3e+01 epoch complete \n",
      "loss: 1.501e+00, risk 1.785e-01 \n",
      "1.4e+01 epoch complete \n",
      "loss: 1.498e+00, risk 1.763e-01 \n",
      "1.5e+01 epoch complete \n",
      "loss: 1.505e+00, risk 1.776e-01 \n",
      "1.6e+01 epoch complete \n",
      "loss: 1.500e+00, risk 1.776e-01 \n",
      "1.7e+01 epoch complete \n",
      "loss: 1.505e+00, risk 1.820e-01 \n",
      "1.8e+01 epoch complete \n",
      "loss: 1.493e+00, risk 1.783e-01 \n",
      "1.9e+01 epoch complete \n",
      "loss: 1.485e+00, risk 1.772e-01 \n",
      "2.0e+01 epoch complete \n",
      "loss: 1.492e+00, risk 1.771e-01 \n"
     ]
    },
    {
     "data": {
      "text/plain": [
       "128×1000 Array{Float64,2}:\n",
       " -0.292153     2.48492      -4.44173     …   3.4188       -5.24539    \n",
       "  2.24522      1.32282      10.3104         -4.27217       3.45164    \n",
       "  4.46608     -0.894985     -2.90609        -0.938157      2.89235    \n",
       "  2.02571     -0.0583076    -0.463441       -0.385421      2.20423    \n",
       " -0.640081     3.16883      -0.154143       -0.918764     -0.773517   \n",
       "  1.81714      0.641442     -2.63905     …  -1.61022       2.21732    \n",
       "  6.18884      2.55591      -1.23595        -1.3633       -0.26522    \n",
       " -0.0832851   -0.740985     -0.290841       -0.302712     -1.20996    \n",
       " -0.0232031   -0.0654684    -0.00832418     -0.0353968    -0.031627   \n",
       " -0.103092    -0.27113      -0.0207587      -0.11016      -0.13379    \n",
       " -0.805154     0.0938891    -0.127853    …  -0.467609     -0.870532   \n",
       " -1.1046      -1.27621      -0.23855        -0.538478     -0.925291   \n",
       " -3.88621e-5  -0.000896602  -6.36463e-5     -0.000352835  -0.000295927\n",
       "  ⋮                                      ⋱                            \n",
       " -0.0332228   -0.0924314    -0.0123396      -0.15382      -0.0289717  \n",
       " -0.0404634   -0.13911      -0.0162758      -0.346174     -0.0413795  \n",
       " -0.033086    -0.0771939    -0.0127927      -0.137465     -0.025776   \n",
       " -0.0475856   -0.052763     -0.0382553      -0.00636791    0.390781   \n",
       " -0.0324679   -0.0861162    -0.00751108  …  -0.191864     -0.0698568  \n",
       " -0.131243    -0.395683     -0.0415155       0.00507105   -0.186068   \n",
       " -1.01789     -0.740826     -0.205788        0.129806     -0.72364    \n",
       " -0.793004     0.37136      -0.334611       -0.665096      2.20419    \n",
       " -0.00284313  -0.0239711    -0.00120082     -0.0929501    -0.00360352 \n",
       " -0.0480436   -0.139152     -0.0121267   …  -0.313391     -0.0650056  \n",
       " -1.09437     -0.0432671    -0.206382        0.455584     -0.732852   \n",
       " -0.1647       1.24032      -1.04099         0.334621     -1.16735    "
      ]
     },
     "execution_count": 61,
     "metadata": {},
     "output_type": "execute_result"
    }
   ],
   "source": [
    "W = softmax(ft, lbl, 0.1, W, 20)"
   ]
  },
  {
   "cell_type": "code",
   "execution_count": 62,
   "metadata": {
    "collapsed": false
   },
   "outputs": [
    {
     "name": "stdout",
     "output_type": "stream",
     "text": [
      "1.0e+00 epoch complete \n",
      "loss: 1.484e+00, risk 1.741e-01 \n",
      "2.0e+00 epoch complete \n",
      "loss: 1.470e+00, risk 1.720e-01 \n",
      "3.0e+00 epoch complete \n",
      "loss: 1.469e+00, risk 1.718e-01 \n",
      "4.0e+00 epoch complete \n",
      "loss: 1.467e+00, risk 1.708e-01 \n",
      "5.0e+00 epoch complete \n",
      "loss: 1.464e+00, risk 1.690e-01 \n",
      "6.0e+00 epoch complete \n",
      "loss: 1.463e+00, risk 1.700e-01 \n",
      "7.0e+00 epoch complete \n",
      "loss: 1.460e+00, risk 1.689e-01 \n",
      "8.0e+00 epoch complete \n",
      "loss: 1.458e+00, risk 1.695e-01 \n",
      "9.0e+00 epoch complete \n",
      "loss: 1.457e+00, risk 1.694e-01 \n",
      "1.0e+01 epoch complete \n",
      "loss: 1.455e+00, risk 1.695e-01 \n"
     ]
    },
    {
     "data": {
      "text/plain": [
       "128×1000 Array{Float64,2}:\n",
       " -0.299431     2.43561      -4.45105     …   3.51444      -5.19582    \n",
       "  2.24343      1.32516      10.3861         -4.28551       3.5166     \n",
       "  4.45528     -0.893435     -2.88951        -0.940168      2.94215    \n",
       "  2.04175     -0.0518905    -0.463625       -0.386477      2.21331    \n",
       " -0.640968     3.1959       -0.154162       -0.916567     -0.775774   \n",
       "  1.81051      0.653575     -2.64523     …  -1.61898       2.23072    \n",
       "  6.20354      2.54208      -1.20184        -1.36841      -0.267291   \n",
       " -0.0725239   -0.737152     -0.290903       -0.305171     -1.2075     \n",
       " -0.0232058   -0.0656871    -0.00832422     -0.0354263    -0.0316322  \n",
       " -0.103152    -0.272051     -0.0207588      -0.110367     -0.133856   \n",
       " -0.807129     0.0998527    -0.127879    …  -0.469015     -0.873313   \n",
       " -1.10913     -1.283        -0.23878        -0.541487     -0.93136    \n",
       " -3.88733e-5  -0.000896697  -6.36472e-5     -0.000352937  -0.000295932\n",
       "  ⋮                                      ⋱                            \n",
       " -0.0332367   -0.0927478    -0.0123397      -0.154347     -0.0289826  \n",
       " -0.0404917   -0.139983     -0.0162833      -0.349104     -0.0413912  \n",
       " -0.0331132   -0.0774905    -0.0127956      -0.139672     -0.0258653  \n",
       " -0.0477124   -0.0530039    -0.0382736      -0.00218372    0.3961     \n",
       " -0.032489    -0.0863282    -0.0075111   …  -0.192193     -0.0699114  \n",
       " -0.131373    -0.387615     -0.0415749       0.0145694    -0.186349   \n",
       " -1.02086     -0.75258      -0.206055        0.128037     -0.727007   \n",
       " -0.7968       0.371201     -0.335024       -0.669882      2.22243    \n",
       " -0.00284339  -0.0240295    -0.00120083     -0.0933746    -0.00360378 \n",
       " -0.0480753   -0.139674     -0.0121272   …  -0.315245     -0.0651686  \n",
       " -1.0976      -0.0305094    -0.206666        0.455494     -0.735282   \n",
       " -0.168099     1.26579      -1.04244         0.339972     -1.154      "
      ]
     },
     "execution_count": 62,
     "metadata": {},
     "output_type": "execute_result"
    }
   ],
   "source": [
    "W = softmax(ft, lbl, 0.05, W, 10)"
   ]
  },
  {
   "cell_type": "code",
   "execution_count": 64,
   "metadata": {
    "collapsed": false
   },
   "outputs": [
    {
     "name": "stdout",
     "output_type": "stream",
     "text": [
      "1.0e+00 epoch complete \n",
      "loss: 1.438e+00, risk 1.637e-01 \n",
      "2.0e+00 epoch complete \n",
      "loss: 1.437e+00, risk 1.637e-01 \n",
      "3.0e+00 epoch complete \n",
      "loss: 1.437e+00, risk 1.635e-01 \n",
      "4.0e+00 epoch complete \n",
      "loss: 1.437e+00, risk 1.635e-01 \n",
      "5.0e+00 epoch complete \n",
      "loss: 1.437e+00, risk 1.636e-01 \n",
      "6.0e+00 epoch complete \n",
      "loss: 1.437e+00, risk 1.636e-01 \n",
      "7.0e+00 epoch complete \n",
      "loss: 1.437e+00, risk 1.636e-01 \n",
      "8.0e+00 epoch complete \n",
      "loss: 1.437e+00, risk 1.635e-01 \n",
      "9.0e+00 epoch complete \n",
      "loss: 1.437e+00, risk 1.635e-01 \n",
      "1.0e+01 epoch complete \n",
      "loss: 1.437e+00, risk 1.634e-01 \n",
      "1.1e+01 epoch complete \n",
      "loss: 1.436e+00, risk 1.633e-01 \n",
      "1.2e+01 epoch complete \n",
      "loss: 1.436e+00, risk 1.634e-01 \n",
      "1.3e+01 epoch complete \n",
      "loss: 1.436e+00, risk 1.633e-01 \n",
      "1.4e+01 epoch complete \n",
      "loss: 1.436e+00, risk 1.633e-01 \n",
      "1.5e+01 epoch complete \n",
      "loss: 1.436e+00, risk 1.633e-01 \n",
      "1.6e+01 epoch complete \n",
      "loss: 1.436e+00, risk 1.633e-01 \n",
      "1.7e+01 epoch complete \n",
      "loss: 1.436e+00, risk 1.633e-01 \n",
      "1.8e+01 epoch complete \n",
      "loss: 1.436e+00, risk 1.634e-01 \n",
      "1.9e+01 epoch complete \n",
      "loss: 1.435e+00, risk 1.633e-01 \n",
      "2.0e+01 epoch complete \n",
      "loss: 1.435e+00, risk 1.632e-01 \n",
      "2.1e+01 epoch complete \n",
      "loss: 1.435e+00, risk 1.632e-01 \n",
      "2.2e+01 epoch complete \n",
      "loss: 1.435e+00, risk 1.632e-01 \n",
      "2.3e+01 epoch complete \n",
      "loss: 1.435e+00, risk 1.632e-01 \n",
      "2.4e+01 epoch complete \n",
      "loss: 1.435e+00, risk 1.632e-01 \n",
      "2.5e+01 epoch complete \n",
      "loss: 1.435e+00, risk 1.628e-01 \n",
      "2.6e+01 epoch complete \n",
      "loss: 1.435e+00, risk 1.629e-01 \n",
      "2.7e+01 epoch complete \n",
      "loss: 1.435e+00, risk 1.628e-01 \n",
      "2.8e+01 epoch complete \n",
      "loss: 1.435e+00, risk 1.629e-01 \n",
      "2.9e+01 epoch complete \n",
      "loss: 1.435e+00, risk 1.629e-01 \n",
      "3.0e+01 epoch complete \n",
      "loss: 1.434e+00, risk 1.628e-01 \n"
     ]
    },
    {
     "data": {
      "text/plain": [
       "128×1000 Array{Float64,2}:\n",
       " -0.282244     2.48018      -4.46611     …   3.45078      -5.22271    \n",
       "  2.25744      1.34834      10.4025         -4.2928        3.49672    \n",
       "  4.47125     -0.884929     -2.87437        -0.941109      2.92145    \n",
       "  2.05165     -0.0486044    -0.463762       -0.386891      2.19568    \n",
       " -0.641405     3.21731      -0.15417        -0.919027     -0.776462   \n",
       "  1.81564      0.658523     -2.64817     …  -1.63467       2.22623    \n",
       "  6.2234       2.56053      -1.203          -1.37075      -0.268263   \n",
       " -0.0704776   -0.737259     -0.290967       -0.305777     -1.20947    \n",
       " -0.0232076   -0.0657451    -0.00832423     -0.0354356    -0.0316366  \n",
       " -0.103172    -0.272423     -0.020759       -0.110509     -0.133997   \n",
       " -0.808258     0.10333      -0.127893    …  -0.469813     -0.874534   \n",
       " -1.11138     -1.28135      -0.238859       -0.542432     -0.932337   \n",
       " -3.88759e-5  -0.000896929  -6.36474e-5     -0.000352976  -0.000296013\n",
       "  ⋮                                      ⋱                            \n",
       " -0.0332463   -0.0928997    -0.0123397      -0.15463      -0.0289934  \n",
       " -0.0405038   -0.140241     -0.0162854      -0.350073     -0.0414202  \n",
       " -0.0331594   -0.0776095    -0.0128134      -0.140034     -0.0258817  \n",
       " -0.0478059   -0.0530638    -0.0382915      -0.00229144    0.395215   \n",
       " -0.0324956   -0.0864225    -0.00751112  …  -0.192432     -0.0699209  \n",
       " -0.131458    -0.388316     -0.0416097       0.0152782    -0.186416   \n",
       " -1.02197     -0.752017     -0.206175        0.124175     -0.727708   \n",
       " -0.795895     0.37319      -0.335205       -0.674862      2.2229     \n",
       " -0.0028435   -0.0240433    -0.00120083     -0.0935349    -0.0036046  \n",
       " -0.0480868   -0.139848     -0.0121328   …  -0.315843     -0.0652229  \n",
       " -1.09885     -0.0279291    -0.206809        0.451793     -0.736057   \n",
       " -0.163207     1.28711      -1.04301         0.307445     -1.15916    "
      ]
     },
     "execution_count": 64,
     "metadata": {},
     "output_type": "execute_result"
    }
   ],
   "source": [
    "W = softmax(ft, lbl, 0.001, W, 30)"
   ]
  },
  {
   "cell_type": "code",
   "execution_count": 94,
   "metadata": {
    "collapsed": false
   },
   "outputs": [
    {
     "data": {
      "text/plain": [
       "train_pairwise (generic function with 1 method)"
      ]
     },
     "execution_count": 94,
     "metadata": {},
     "output_type": "execute_result"
    }
   ],
   "source": [
    "include(\"code/algo.jl\")"
   ]
  },
  {
   "cell_type": "code",
   "execution_count": 95,
   "metadata": {
    "collapsed": false
   },
   "outputs": [
    {
     "name": "stdout",
     "output_type": "stream",
     "text": [
      "toq() = 0.313437315\n",
      "1.0e+00 epoch complete \n",
      "loss: 0.000e+00, risk 9.500e-01 \n",
      "toq() = 0.220776762\n",
      "2.0e+00 epoch complete \n",
      "loss: 0.000e+00, risk 8.863e-01 \n",
      "toq() = 0.101221696\n",
      "3.0e+00 epoch complete \n",
      "loss: 0.000e+00, risk 8.428e-01 \n",
      "toq() = 0.099948608\n",
      "4.0e+00 epoch complete \n"
     ]
    },
    {
     "ename": "LoadError",
     "evalue": "\u001b[91mInterruptException:\u001b[39m",
     "output_type": "error",
     "traceback": [
      "\u001b[91mInterruptException:\u001b[39m",
      "",
      "Stacktrace:",
      " [1] \u001b[1mmacro expansion\u001b[22m\u001b[22m at \u001b[1m./multidimensional.jl:495\u001b[22m\u001b[22m [inlined]",
      " [2] \u001b[1m_getindex\u001b[22m\u001b[22m at \u001b[1m./multidimensional.jl:491\u001b[22m\u001b[22m [inlined]",
      " [3] \u001b[1mgetindex\u001b[22m\u001b[22m at \u001b[1m./abstractarray.jl:883\u001b[22m\u001b[22m [inlined]",
      " [4] \u001b[1mtrain_pairwise\u001b[22m\u001b[22m\u001b[1m(\u001b[22m\u001b[22m::SparseMatrixCSC{Float64,Int64}, ::SparseMatrixCSC{Float64,Int64}, ::Float64, ::Int64\u001b[1m)\u001b[22m\u001b[22m at \u001b[1m/Users/fangh/academic/negative_sampling_experiments/code/algo.jl:97\u001b[22m\u001b[22m",
      " [5] \u001b[1minclude_string\u001b[22m\u001b[22m\u001b[1m(\u001b[22m\u001b[22m::String, ::String\u001b[1m)\u001b[22m\u001b[22m at \u001b[1m./loading.jl:522\u001b[22m\u001b[22m"
     ]
    }
   ],
   "source": [
    "W = train_pairwise(ft, lbl, 0.1, 30, zeros(D, K))"
   ]
  },
  {
   "cell_type": "code",
   "execution_count": 69,
   "metadata": {
    "collapsed": false
   },
   "outputs": [
    {
     "name": "stdout",
     "output_type": "stream",
     "text": [
      "risk / n_te = 0.1775\n"
     ]
    },
    {
     "data": {
      "text/plain": [
       "0.1775"
      ]
     },
     "execution_count": 69,
     "metadata": {},
     "output_type": "execute_result"
    }
   ],
   "source": [
    "X = ft_te'\n",
    "n_te = size(ft_te, 1)\n",
    "risk = 0\n",
    "XW = ft_te*W\n",
    "for i = 1:n_te\n",
    "    Wxi = XW[i,:]\n",
    "    ii = indmax(Wxi)\n",
    "    class = find(lbl_te[:,i])[1]\n",
    "    if ii != class\n",
    "        risk += 1 \n",
    "    end\n",
    "end\n",
    "@show(risk/n_te)"
   ]
  },
  {
   "cell_type": "code",
   "execution_count": null,
   "metadata": {
    "collapsed": true
   },
   "outputs": [],
   "source": []
  }
 ],
 "metadata": {
  "kernelspec": {
   "display_name": "Julia 0.6.2",
   "language": "julia",
   "name": "julia-0.6"
  },
  "language_info": {
   "file_extension": ".jl",
   "mimetype": "application/julia",
   "name": "julia",
   "version": "0.6.2"
  }
 },
 "nbformat": 4,
 "nbformat_minor": 1
}
